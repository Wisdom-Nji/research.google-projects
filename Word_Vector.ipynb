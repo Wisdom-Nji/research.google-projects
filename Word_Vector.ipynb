{
  "nbformat": 4,
  "nbformat_minor": 0,
  "metadata": {
    "colab": {
      "name": "Word Vector.ipynb",
      "provenance": [],
      "authorship_tag": "ABX9TyMU43S69UXUJFbzfZBQIY1F",
      "include_colab_link": true
    },
    "kernelspec": {
      "name": "python3",
      "display_name": "Python 3"
    }
  },
  "cells": [
    {
      "cell_type": "markdown",
      "metadata": {
        "id": "view-in-github",
        "colab_type": "text"
      },
      "source": [
        "<a href=\"https://colab.research.google.com/github/Wisdom-Nji/research.google-projects/blob/master/Word_Vector.ipynb\" target=\"_parent\"><img src=\"https://colab.research.google.com/assets/colab-badge.svg\" alt=\"Open In Colab\"/></a>"
      ]
    },
    {
      "cell_type": "code",
      "metadata": {
        "id": "RFNyqJMm2iXo"
      },
      "source": [
        "!pip install spacy\n",
        "!python -m spacy download en_core_web_md"
      ],
      "execution_count": null,
      "outputs": []
    },
    {
      "cell_type": "code",
      "metadata": {
        "id": "6OP3MwcH5iZz"
      },
      "source": [
        "import spacy\n",
        "\n",
        "nlp = spacy.load(\"en_core_web_md\")"
      ],
      "execution_count": 8,
      "outputs": []
    },
    {
      "cell_type": "code",
      "metadata": {
        "id": "0c7bZii0BP2f"
      },
      "source": [
        "class Category:\n",
        "  URGENT = \"URGENT\" \n",
        "  RESULTS = \"RESULT\"\n",
        "  QUESTIONS = \"QUESTION\"\n",
        "  STATEMENTS = \"STATEMENT\"\n"
      ],
      "execution_count": 35,
      "outputs": []
    },
    {
      "cell_type": "code",
      "metadata": {
        "colab": {
          "base_uri": "https://localhost:8080/"
        },
        "id": "fbTcKseM8Hak",
        "outputId": "b52f7567-9c4e-46c3-f826-17a77103171a"
      },
      "source": [
        "# Data = { URGENT or RESULT}\n",
        "train_x = ['The test was positive', 'Nobody got sick', 'We do not have TB', 'You results are available', \"I'm not sick\", \"I am not negative\"]\n",
        "train_x1 = ['Please send help', 'I need someone right now', 'Her water just broke', \"i've been shot\"]\n",
        "train_y = [Category.RESULTS, Category.RESULTS, Category.RESULTS, Category.RESULTS, Category.RESULTS, Category.RESULTS]\n",
        "train_y1 = [Category.URGENT, Category.URGENT, Category.URGENT, Category.URGENT]\n",
        "\n",
        "train_x += train_x1 \n",
        "train_y += train_y1\n",
        "print( len(train_y), \":\", train_y )"
      ],
      "execution_count": 47,
      "outputs": [
        {
          "output_type": "stream",
          "text": [
            "10 : ['RESULT', 'RESULT', 'RESULT', 'RESULT', 'RESULT', 'RESULT', 'URGENT', 'URGENT', 'URGENT', 'URGENT']\n"
          ],
          "name": "stdout"
        }
      ]
    },
    {
      "cell_type": "code",
      "metadata": {
        "id": "0TxvhEmZ6V6z"
      },
      "source": [
        "# Data = {Question or Statement}\n",
        "train_questions = ['What drug is this', 'would I have to pay', 'is this free', 'can this not be for free', 'should i come back later', 'am I tired']\n",
        "train_label_statements = [Category.STATEMENTS, Category.STATEMENTS, Category.STATEMENTS, Category.STATEMENTS, Category.STATEMENTS, Category.STATEMENTS]\n",
        "train_label_statements1 = [Category.STATEMENTS, Category.STATEMENTS, Category.STATEMENTS, Category.STATEMENTS]\n",
        "train_label_questions = [Category.QUESTIONS, Category.QUESTIONS, Category.QUESTIONS, Category.QUESTIONS, Category.QUESTIONS, Category.QUESTIONS]\n",
        "\n",
        "train_sq_data = train_label_statements + train_label_statements1 + train_label_questions\n",
        "\n",
        "train_cat_data = []\n",
        "train_cat_data += train_x + train_questions"
      ],
      "execution_count": 67,
      "outputs": []
    },
    {
      "cell_type": "code",
      "metadata": {
        "id": "m81Ckv2-5XKG"
      },
      "source": [
        "# training cat data\n",
        "docs = [nlp(text) for text in train_x]\n",
        "train_x_word_vectors = [x.vector for x in docs]"
      ],
      "execution_count": 65,
      "outputs": []
    },
    {
      "cell_type": "code",
      "metadata": {
        "id": "k8mz-OFA75fb"
      },
      "source": [
        "# training sq data\n",
        "docs = [nlp(text) for text in train_cat_data]\n",
        "train_x_word_vectors_for_questions = [x.vector for x in docs]"
      ],
      "execution_count": 66,
      "outputs": []
    },
    {
      "cell_type": "code",
      "metadata": {
        "colab": {
          "base_uri": "https://localhost:8080/"
        },
        "id": "icZ288EZ6YXV",
        "outputId": "f4b55ff2-e48c-41b2-a265-616efab29da8"
      },
      "source": [
        "from sklearn import svm\n",
        "clf_svm_wv = svm.SVC(kernel='linear')\n",
        "clf_svm_wv.fit(train_x_word_vectors, train_y)\n",
        "\n",
        "# Training for Questions or statements\n",
        "clf_svm_wv_sq = svm.SVC(kernel='linear')\n",
        "clf_svm_wv_sq.fit(train_x_word_vectors_for_questions, train_sq_data)"
      ],
      "execution_count": 70,
      "outputs": [
        {
          "output_type": "execute_result",
          "data": {
            "text/plain": [
              "SVC(C=1.0, break_ties=False, cache_size=200, class_weight=None, coef0=0.0,\n",
              "    decision_function_shape='ovr', degree=3, gamma='scale', kernel='linear',\n",
              "    max_iter=-1, probability=False, random_state=None, shrinking=True,\n",
              "    tol=0.001, verbose=False)"
            ]
          },
          "metadata": {
            "tags": []
          },
          "execution_count": 70
        }
      ]
    },
    {
      "cell_type": "code",
      "metadata": {
        "colab": {
          "base_uri": "https://localhost:8080/"
        },
        "id": "5NwI_XB_6uKd",
        "outputId": "4a2c1cde-2008-48fb-bd2c-feb1551e0996"
      },
      "source": [
        "test_x = [\"would you check for my drugs\"]\n",
        "test_docs = [nlp(text) for text in test_x]\n",
        "\n",
        "test_x_word_vectors = [x.vector for x in test_docs]\n",
        "\n",
        "print(\"Statement|Question:\", clf_svm_wv_sq.predict( test_x_word_vectors ))\n",
        "print(\"Urgent|Results:\", clf_svm_wv.predict( test_x_word_vectors ))"
      ],
      "execution_count": 75,
      "outputs": [
        {
          "output_type": "stream",
          "text": [
            "Statement|Question: ['QUESTION']\n",
            "Urgent|Results: ['RESULT']\n"
          ],
          "name": "stdout"
        }
      ]
    }
  ]
}