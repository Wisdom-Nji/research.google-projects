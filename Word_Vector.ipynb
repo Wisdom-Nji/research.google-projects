{
  "nbformat": 4,
  "nbformat_minor": 0,
  "metadata": {
    "colab": {
      "name": "Word Vector.ipynb",
      "provenance": [],
      "authorship_tag": "ABX9TyOEh2UoR4Xf9y9cVSxd9i16",
      "include_colab_link": true
    },
    "kernelspec": {
      "name": "python3",
      "display_name": "Python 3"
    }
  },
  "cells": [
    {
      "cell_type": "markdown",
      "metadata": {
        "id": "view-in-github",
        "colab_type": "text"
      },
      "source": [
        "<a href=\"https://colab.research.google.com/github/Wisdom-Nji/research.google-projects/blob/master/Word_Vector.ipynb\" target=\"_parent\"><img src=\"https://colab.research.google.com/assets/colab-badge.svg\" alt=\"Open In Colab\"/></a>"
      ]
    },
    {
      "cell_type": "code",
      "metadata": {
        "id": "RFNyqJMm2iXo"
      },
      "source": [
        "!pip install spacy\n",
        "!python -m spacy download en_core_web_md"
      ],
      "execution_count": null,
      "outputs": []
    },
    {
      "cell_type": "code",
      "metadata": {
        "id": "6OP3MwcH5iZz"
      },
      "source": [
        "import spacy\n",
        "\n",
        "nlp = spacy.load(\"en_core_web_md\")"
      ],
      "execution_count": null,
      "outputs": []
    },
    {
      "cell_type": "code",
      "metadata": {
        "id": "0c7bZii0BP2f"
      },
      "source": [
        "class Category:\n",
        "  URGENT = \"URGENT\" \n",
        "  RESULTS = \"RESULT\"\n",
        "  QUESTIONS = \"QUESTION\"\n",
        "  STATEMENTS = \"STATEMENT\"\n"
      ],
      "execution_count": 87,
      "outputs": []
    },
    {
      "cell_type": "code",
      "metadata": {
        "colab": {
          "base_uri": "https://localhost:8080/"
        },
        "id": "fbTcKseM8Hak",
        "outputId": "33c01729-56f7-427e-c144-18d20163d681"
      },
      "source": [
        "# Data = { URGENT or RESULT}\n",
        "# Upload Question from data files, which allow for more data to be added to the entire mix\n",
        "train_x = ['The test was positive', 'Nobody got sick', 'We do not have TB', 'You results are available', \"I'm not sick\", \"I am not negative\"]\n",
        "train_x1 = ['Please send help', 'I need someone right now', 'Her water just broke', \"i've been shot\"]\n",
        "train_y = [Category.RESULTS, Category.RESULTS, Category.RESULTS, Category.RESULTS, Category.RESULTS, Category.RESULTS]\n",
        "train_y1 = [Category.URGENT, Category.URGENT, Category.URGENT, Category.URGENT]\n",
        "\n",
        "train_x += train_x1 \n",
        "train_y += train_y1\n",
        "print( len(train_y), \":\", train_y )"
      ],
      "execution_count": 89,
      "outputs": [
        {
          "output_type": "stream",
          "text": [
            "10 : ['RESULT', 'RESULT', 'RESULT', 'RESULT', 'RESULT', 'RESULT', 'URGENT', 'URGENT', 'URGENT', 'URGENT']\n"
          ],
          "name": "stdout"
        }
      ]
    },
    {
      "cell_type": "code",
      "metadata": {
        "id": "0TxvhEmZ6V6z"
      },
      "source": [
        "# Data = {Question or Statement}\n",
        "train_questions = ['What drug is this?', 'would I have to pay?', 'is this free?', 'can this not be for free?', 'should i come back later?', 'am I tired?', \"could we know for sure?\", \"should I ask?\", \"could I have TB?\"]\n",
        "train_label_statements = [Category.STATEMENTS, Category.STATEMENTS, Category.STATEMENTS, Category.STATEMENTS, Category.STATEMENTS, Category.STATEMENTS]\n",
        "train_label_statements1 = [Category.STATEMENTS, Category.STATEMENTS, Category.STATEMENTS, Category.STATEMENTS]\n",
        "train_label_questions = [Category.QUESTIONS, Category.QUESTIONS, Category.QUESTIONS, Category.QUESTIONS, Category.QUESTIONS, Category.QUESTIONS, Category.QUESTIONS, Category.QUESTIONS, Category.QUESTIONS]\n",
        "\n",
        "train_sq_data = train_label_statements + train_label_statements1 + train_label_questions\n",
        "\n",
        "train_cat_data = []\n",
        "train_cat_data += train_x + train_questions"
      ],
      "execution_count": 100,
      "outputs": []
    },
    {
      "cell_type": "code",
      "metadata": {
        "id": "m81Ckv2-5XKG"
      },
      "source": [
        "# training cat data\n",
        "docs = [nlp(text) for text in train_x]\n",
        "train_x_word_vectors = [x.vector for x in docs]"
      ],
      "execution_count": 101,
      "outputs": []
    },
    {
      "cell_type": "code",
      "metadata": {
        "id": "k8mz-OFA75fb"
      },
      "source": [
        "# training sq data\n",
        "docs = [nlp(text) for text in train_cat_data]\n",
        "train_x_word_vectors_for_questions = [x.vector for x in docs]"
      ],
      "execution_count": 102,
      "outputs": []
    },
    {
      "cell_type": "code",
      "metadata": {
        "colab": {
          "base_uri": "https://localhost:8080/"
        },
        "id": "icZ288EZ6YXV",
        "outputId": "6af72897-7204-4656-9f4f-3db06adfd74a"
      },
      "source": [
        "from sklearn import svm\n",
        "clf_svm_wv = svm.SVC(kernel='linear')\n",
        "clf_svm_wv.fit(train_x_word_vectors, train_y)\n",
        "\n",
        "# Training for Questions or statements\n",
        "clf_svm_wv_sq = svm.SVC(kernel='linear')\n",
        "clf_svm_wv_sq.fit(train_x_word_vectors_for_questions, train_sq_data)"
      ],
      "execution_count": 103,
      "outputs": [
        {
          "output_type": "execute_result",
          "data": {
            "text/plain": [
              "SVC(C=1.0, break_ties=False, cache_size=200, class_weight=None, coef0=0.0,\n",
              "    decision_function_shape='ovr', degree=3, gamma='scale', kernel='linear',\n",
              "    max_iter=-1, probability=False, random_state=None, shrinking=True,\n",
              "    tol=0.001, verbose=False)"
            ]
          },
          "metadata": {
            "tags": []
          },
          "execution_count": 103
        }
      ]
    },
    {
      "cell_type": "code",
      "metadata": {
        "colab": {
          "base_uri": "https://localhost:8080/"
        },
        "id": "5NwI_XB_6uKd",
        "outputId": "f02a3dec-7b1d-4663-ceab-a7925cfb2fa3"
      },
      "source": [
        "test_x = [\"Can I get tested?\"]\n",
        "test_docs = [nlp(text) for text in test_x]\n",
        "\n",
        "test_x_word_vectors = [x.vector for x in test_docs]\n",
        "\n",
        "print(\"Statement|Question:\", clf_svm_wv_sq.predict( test_x_word_vectors ))\n",
        "print(\"Urgent|Results:\", clf_svm_wv.predict( test_x_word_vectors ))"
      ],
      "execution_count": 104,
      "outputs": [
        {
          "output_type": "stream",
          "text": [
            "Statement|Question: ['QUESTION']\n",
            "Urgent|Results: ['URGENT']\n"
          ],
          "name": "stdout"
        }
      ]
    }
  ]
}