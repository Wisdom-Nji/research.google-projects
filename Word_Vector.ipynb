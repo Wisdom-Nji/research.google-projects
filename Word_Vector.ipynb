{
  "nbformat": 4,
  "nbformat_minor": 0,
  "metadata": {
    "colab": {
      "name": "Word Vector.ipynb",
      "provenance": [],
      "authorship_tag": "ABX9TyPyzxhGkzzaEqb2bTzfibrl",
      "include_colab_link": true
    },
    "kernelspec": {
      "name": "python3",
      "display_name": "Python 3"
    }
  },
  "cells": [
    {
      "cell_type": "markdown",
      "metadata": {
        "id": "view-in-github",
        "colab_type": "text"
      },
      "source": [
        "<a href=\"https://colab.research.google.com/github/Wisdom-Nji/research.google-projects/blob/master/Word_Vector.ipynb\" target=\"_parent\"><img src=\"https://colab.research.google.com/assets/colab-badge.svg\" alt=\"Open In Colab\"/></a>"
      ]
    },
    {
      "cell_type": "code",
      "metadata": {
        "id": "RFNyqJMm2iXo"
      },
      "source": [
        "!pip install spacy\n",
        "!python -m spacy download en_core_web_md"
      ],
      "execution_count": null,
      "outputs": []
    },
    {
      "cell_type": "code",
      "metadata": {
        "id": "6OP3MwcH5iZz"
      },
      "source": [
        "import spacy\n",
        "\n",
        "nlp = spacy.load(\"en_core_web_md\")"
      ],
      "execution_count": 1,
      "outputs": []
    },
    {
      "cell_type": "code",
      "metadata": {
        "id": "0c7bZii0BP2f"
      },
      "source": [
        "class Category:\n",
        "  URGENT = \"URGENT\" \n",
        "  RESULTS = \"RESULTS\"\n",
        "train_x = ['The test was positive', 'No body got sick', 'We do not have TB', 'You results are available']\n",
        "train_x1 = ['Please send help', 'I need someone right now', 'Her water just broke', \"i've been shot\"]\n",
        "train_y = [Category.RESULTS, Category.RESULTS, Category.RESULTS, Category.RESULTS, Category.URGENT, Category.URGENT, Category.URGENT, Category.URGENT]\n",
        "\n",
        "train_x += train_x1"
      ],
      "execution_count": 12,
      "outputs": []
    },
    {
      "cell_type": "code",
      "metadata": {
        "id": "m81Ckv2-5XKG"
      },
      "source": [
        "docs = [nlp(text) for text in train_x]\n",
        "train_x_word_vectors = [x.vector for x in docs]"
      ],
      "execution_count": 14,
      "outputs": []
    },
    {
      "cell_type": "code",
      "metadata": {
        "colab": {
          "base_uri": "https://localhost:8080/"
        },
        "id": "icZ288EZ6YXV",
        "outputId": "6b58af20-c5e0-43eb-a2e8-90e8b424d2fe"
      },
      "source": [
        "from sklearn import svm\n",
        "clf_svm_wv = svm.SVC(kernel='linear')\n",
        "clf_svm_wv.fit(train_x_word_vectors, train_y)"
      ],
      "execution_count": 15,
      "outputs": [
        {
          "output_type": "execute_result",
          "data": {
            "text/plain": [
              "SVC(C=1.0, break_ties=False, cache_size=200, class_weight=None, coef0=0.0,\n",
              "    decision_function_shape='ovr', degree=3, gamma='scale', kernel='linear',\n",
              "    max_iter=-1, probability=False, random_state=None, shrinking=True,\n",
              "    tol=0.001, verbose=False)"
            ]
          },
          "metadata": {
            "tags": []
          },
          "execution_count": 15
        }
      ]
    },
    {
      "cell_type": "code",
      "metadata": {
        "colab": {
          "base_uri": "https://localhost:8080/"
        },
        "id": "5NwI_XB_6uKd",
        "outputId": "0fce1a21-4f13-47e0-8278-0e87d48c59b9"
      },
      "source": [
        "test_x = [\"I don't have AIDS\"]\n",
        "test_docs = [nlp(text) for text in test_x]\n",
        "test_x_word_vectors = [x.vector for x in test_docs]\n",
        "\n",
        "clf_svm_wv.predict( test_x_word_vectors )"
      ],
      "execution_count": 18,
      "outputs": [
        {
          "output_type": "execute_result",
          "data": {
            "text/plain": [
              "array(['RESULTS'], dtype='<U7')"
            ]
          },
          "metadata": {
            "tags": []
          },
          "execution_count": 18
        }
      ]
    }
  ]
}